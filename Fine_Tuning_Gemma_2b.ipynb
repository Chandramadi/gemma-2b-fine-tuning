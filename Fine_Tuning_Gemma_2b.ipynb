{
  "cells": [
    {
      "cell_type": "markdown",
      "metadata": {
        "id": "view-in-github",
        "colab_type": "text"
      },
      "source": [
        "<a href=\"https://colab.research.google.com/github/Chandramadi/gemma-2b-fine-tuning/blob/main/Fine_Tuning_Gemma_2b.ipynb\" target=\"_parent\"><img src=\"https://colab.research.google.com/assets/colab-badge.svg\" alt=\"Open In Colab\"/></a>"
      ]
    },
    {
      "cell_type": "markdown",
      "metadata": {
        "id": "BW9qQO2ZRcyS"
      },
      "source": [
        "## Install the libraries\n",
        "### bitsandbytes - > for quantization"
      ]
    },
    {
      "cell_type": "code",
      "execution_count": null,
      "metadata": {
        "id": "E9BYIjujxS6f"
      },
      "outputs": [],
      "source": [
        "!pip install bitsandbytes peft trl accelerate datasets transformers\n"
      ]
    },
    {
      "cell_type": "markdown",
      "metadata": {
        "id": "tRnP8pwAV5kg"
      },
      "source": [
        "## import the modules"
      ]
    },
    {
      "cell_type": "code",
      "execution_count": null,
      "metadata": {
        "id": "T57zXuNTSRDB"
      },
      "outputs": [],
      "source": [
        "import os\n",
        "import transformers\n",
        "import torch\n",
        "from datasets import load_dataset\n",
        "from google.colab import userdata\n",
        "from trl import SFTTrainer # sftTrainer is used for fine tuning called supervised fine tuning\n",
        "from peft import LoraConfig\n",
        "from transformers import AutoTokenizer, AutoModelForCausalLM, BitsAndBytesConfig, GemmaTokenizer"
      ]
    },
    {
      "cell_type": "code",
      "execution_count": null,
      "metadata": {
        "id": "M2RlF7N8V4kh"
      },
      "outputs": [],
      "source": [
        "os.environ['HF_TOKEN'] = userdata.get('HF_TOKEN')\n",
        "# through the hf_token you can access any hugging face models"
      ]
    },
    {
      "cell_type": "markdown",
      "metadata": {
        "id": "fq3xXLYfXSKm"
      },
      "source": [
        "## Quantization to nf-4bit\n",
        "nf4(4-bit NormalFloat)"
      ]
    },
    {
      "cell_type": "code",
      "execution_count": null,
      "metadata": {
        "id": "49YvwtVdXSkt"
      },
      "outputs": [],
      "source": [
        "model_id = \"google/gemma-2b\"\n",
        "bnb_config = BitsAndBytesConfig(\n",
        "    load_in_4bit=True,\n",
        "    bnb_4bit_quant_type=\"nf4\",\n",
        "    bnb_4bit_compute_dtype=torch.float16,\n",
        ")"
      ]
    },
    {
      "cell_type": "code",
      "execution_count": null,
      "metadata": {
        "id": "gU4fI2v_YmX_"
      },
      "outputs": [],
      "source": [
        "tokenizer = AutoTokenizer.from_pretrained(model_id, token=os.environ['HF_TOKEN'])\n",
        "model = AutoModelForCausalLM.from_pretrained(\n",
        "    model_id,\n",
        "    quantization_config=bnb_config,\n",
        "    device_map={\"\":0},\n",
        "    token=os.environ['HF_TOKEN']\n",
        ")"
      ]
    },
    {
      "cell_type": "markdown",
      "metadata": {
        "id": "xrFninFLZ6Af"
      },
      "source": [
        "## Test the loaded model"
      ]
    },
    {
      "cell_type": "code",
      "execution_count": null,
      "metadata": {
        "id": "_vEawGVHZ5bw"
      },
      "outputs": [],
      "source": [
        "text = \"Quote : Imagination is more,\"\n",
        "device = \"cuda:0\"\n",
        "inputs = tokenizer(text, return_tensors=\"pt\").to(device)\n",
        "\n",
        "output = model.generate(**inputs, max_new_tokens=50)\n",
        "print(tokenizer.decode(output[0], skip_special_tokens=True))"
      ]
    },
    {
      "cell_type": "code",
      "execution_count": null,
      "metadata": {
        "id": "FZx86K30b2eH"
      },
      "outputs": [],
      "source": [
        "text = \"Quote : Imagination is more\"\n",
        "device = \"cuda:0\"\n",
        "inputs = tokenizer(text, return_tensors=\"pt\").to(device)\n",
        "\n",
        "output = model.generate(**inputs, max_new_tokens=50)\n",
        "print(tokenizer.decode(output[0], skip_special_tokens=True))"
      ]
    },
    {
      "cell_type": "code",
      "execution_count": null,
      "metadata": {
        "id": "aToHKG3cfuMT"
      },
      "outputs": [],
      "source": [
        "text = \"Quote : Be yourself; everyone else is already taken.\"\n",
        "device = \"cuda:0\"\n",
        "inputs = tokenizer(text, return_tensors=\"pt\").to(device)\n",
        "\n",
        "output = model.generate(**inputs, max_new_tokens=50)\n",
        "print(tokenizer.decode(output[0], skip_special_tokens=True))"
      ]
    },
    {
      "cell_type": "markdown",
      "metadata": {
        "id": "myxC-23dcGVe"
      },
      "source": [
        "## Fine tuning"
      ]
    },
    {
      "cell_type": "code",
      "execution_count": null,
      "metadata": {
        "id": "LpP11TK7cJpN"
      },
      "outputs": [],
      "source": [
        "os.environ[\"WANDB_DISABLED\"] = \"false\""
      ]
    },
    {
      "cell_type": "code",
      "execution_count": null,
      "metadata": {
        "id": "0hAtH2iecPsq"
      },
      "outputs": [],
      "source": [
        "lora_config = LoraConfig(\n",
        "    r = 8,\n",
        "    target_modules = [\"q_proj\", \"o_proj\", \"k_proj\",\n",
        "                       \"v_proj\", \"gate_proj\", \"up_proj\", \"down_proj\"],\n",
        "    task_type = \"CAUSAL_LM\"\n",
        ")"
      ]
    },
    {
      "cell_type": "code",
      "execution_count": null,
      "metadata": {
        "id": "_vUkLISac8dT"
      },
      "outputs": [],
      "source": [
        "from datasets import load_dataset\n",
        "data = load_dataset(\"Abirate/english_quotes\") # it's a dataset available on hugging face\n",
        "data = data.map(lambda samples: tokenizer(samples[\"quote\"]), batched=True)"
      ]
    },
    {
      "cell_type": "code",
      "execution_count": null,
      "metadata": {
        "id": "WPCRTCdEd1W3"
      },
      "outputs": [],
      "source": [
        "def formatting_func(example):\n",
        "  text = f\"Quote: {example['quote']}\\nAuthor: {example['author']}\\n\"\n",
        "  return text"
      ]
    },
    {
      "cell_type": "code",
      "execution_count": null,
      "metadata": {
        "id": "tkuuRC1AeaPz"
      },
      "outputs": [],
      "source": [
        "trainer = SFTTrainer(\n",
        "    model = model,\n",
        "    train_dataset = data[\"train\"],\n",
        "    args=transformers.TrainingArguments(\n",
        "        per_device_train_batch_size=1,\n",
        "        gradient_accumulation_steps=4,\n",
        "        warmup_steps=2,\n",
        "        max_steps=100,\n",
        "        learning_rate=2e-4,\n",
        "        fp16=True,\n",
        "        logging_steps=1,\n",
        "        output_dir=\"outputs\",\n",
        "        optim=\"paged_adamw_8bit\",\n",
        "        label_names=[\"labels\"]\n",
        "    ),\n",
        "    peft_config=lora_config,\n",
        "    formatting_func=formatting_func\n",
        ")"
      ]
    },
    {
      "cell_type": "code",
      "execution_count": null,
      "metadata": {
        "id": "NB4a9f98fL-s"
      },
      "outputs": [],
      "source": [
        "text = \"Quote : Two things are infinite: the universe and human stupidity;\"\n",
        "device = \"cuda:0\"\n",
        "inputs = tokenizer(text, return_tensors=\"pt\").to(device)\n",
        "\n",
        "output = model.generate(**inputs, max_new_tokens=50)\n",
        "print(tokenizer.decode(output[0], skip_special_tokens=True))"
      ]
    }
  ],
  "metadata": {
    "accelerator": "GPU",
    "colab": {
      "gpuType": "T4",
      "provenance": [],
      "include_colab_link": true
    },
    "kernelspec": {
      "display_name": "Python 3",
      "name": "python3"
    },
    "language_info": {
      "name": "python"
    }
  },
  "nbformat": 4,
  "nbformat_minor": 0
}